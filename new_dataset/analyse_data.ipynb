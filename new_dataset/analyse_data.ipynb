{
 "cells": [
  {
   "cell_type": "code",
   "execution_count": 25,
   "metadata": {},
   "outputs": [],
   "source": [
    "import pandas as pd\n",
    "import numpy as np"
   ]
  },
  {
   "cell_type": "code",
   "execution_count": null,
   "metadata": {},
   "outputs": [],
   "source": []
  },
  {
   "cell_type": "code",
   "execution_count": 13,
   "metadata": {},
   "outputs": [],
   "source": [
    "df = pd.read_csv('History.csv')"
   ]
  },
  {
   "cell_type": "code",
   "execution_count": 14,
   "metadata": {},
   "outputs": [
    {
     "data": {
      "text/html": [
       "<div>\n",
       "<style scoped>\n",
       "    .dataframe tbody tr th:only-of-type {\n",
       "        vertical-align: middle;\n",
       "    }\n",
       "\n",
       "    .dataframe tbody tr th {\n",
       "        vertical-align: top;\n",
       "    }\n",
       "\n",
       "    .dataframe thead th {\n",
       "        text-align: right;\n",
       "    }\n",
       "</style>\n",
       "<table border=\"1\" class=\"dataframe\">\n",
       "  <thead>\n",
       "    <tr style=\"text-align: right;\">\n",
       "      <th></th>\n",
       "      <th>category</th>\n",
       "      <th>price</th>\n",
       "      <th>text</th>\n",
       "      <th>label</th>\n",
       "      <th>node_id</th>\n",
       "      <th>neighbour</th>\n",
       "    </tr>\n",
       "  </thead>\n",
       "  <tbody>\n",
       "    <tr>\n",
       "      <th>0</th>\n",
       "      <td>World</td>\n",
       "      <td>$99.20</td>\n",
       "      <td>Description: The true story of the remarkable ...</td>\n",
       "      <td>0</td>\n",
       "      <td>0</td>\n",
       "      <td>[798, 4566, 4947, 5138, 6190, 6723, 6724, 1527...</td>\n",
       "    </tr>\n",
       "    <tr>\n",
       "      <th>1</th>\n",
       "      <td>Americas</td>\n",
       "      <td>$5.89</td>\n",
       "      <td>Description: James Raffan is one of our foremo...</td>\n",
       "      <td>1</td>\n",
       "      <td>1</td>\n",
       "      <td>[9330]</td>\n",
       "    </tr>\n",
       "    <tr>\n",
       "      <th>2</th>\n",
       "      <td>Americas</td>\n",
       "      <td>$22.97</td>\n",
       "      <td>Description: Charlotte Gray is one of Canada&amp;#...</td>\n",
       "      <td>1</td>\n",
       "      <td>2</td>\n",
       "      <td>[6452, 16568]</td>\n",
       "    </tr>\n",
       "    <tr>\n",
       "      <th>3</th>\n",
       "      <td>Americas</td>\n",
       "      <td>$8.22</td>\n",
       "      <td>Description: Conquistadors, The by Innes, Hamm...</td>\n",
       "      <td>1</td>\n",
       "      <td>3</td>\n",
       "      <td>[8200]</td>\n",
       "    </tr>\n",
       "    <tr>\n",
       "      <th>4</th>\n",
       "      <td>Americas</td>\n",
       "      <td>$40.91</td>\n",
       "      <td>Description: NO shipping outside of US. Perfec...</td>\n",
       "      <td>1</td>\n",
       "      <td>4</td>\n",
       "      <td>[5]</td>\n",
       "    </tr>\n",
       "  </tbody>\n",
       "</table>\n",
       "</div>"
      ],
      "text/plain": [
       "   category   price                                               text  label  \\\n",
       "0     World  $99.20  Description: The true story of the remarkable ...      0   \n",
       "1  Americas   $5.89  Description: James Raffan is one of our foremo...      1   \n",
       "2  Americas  $22.97  Description: Charlotte Gray is one of Canada&#...      1   \n",
       "3  Americas   $8.22  Description: Conquistadors, The by Innes, Hamm...      1   \n",
       "4  Americas  $40.91  Description: NO shipping outside of US. Perfec...      1   \n",
       "\n",
       "   node_id                                          neighbour  \n",
       "0        0  [798, 4566, 4947, 5138, 6190, 6723, 6724, 1527...  \n",
       "1        1                                             [9330]  \n",
       "2        2                                      [6452, 16568]  \n",
       "3        3                                             [8200]  \n",
       "4        4                                                [5]  "
      ]
     },
     "execution_count": 14,
     "metadata": {},
     "output_type": "execute_result"
    }
   ],
   "source": [
    "df.head()"
   ]
  },
  {
   "cell_type": "code",
   "execution_count": 62,
   "metadata": {},
   "outputs": [
    {
     "data": {
      "text/plain": [
       "category                                              Americas\n",
       "price                                                    $4.96\n",
       "text         Description: Shaping the destiny of Canada, th...\n",
       "label                                                        1\n",
       "node_id                                                   9330\n",
       "neighbour                                  [6664, 9331, 16913]\n",
       "Name: 9330, dtype: object"
      ]
     },
     "execution_count": 62,
     "metadata": {},
     "output_type": "execute_result"
    }
   ],
   "source": [
    "df.iloc[9330]"
   ]
  },
  {
   "cell_type": "code",
   "execution_count": 65,
   "metadata": {},
   "outputs": [
    {
     "data": {
      "text/plain": [
       "category\n",
       "Americas                                    23368\n",
       "World                                        6895\n",
       "Military                                     5304\n",
       "Europe                                       3360\n",
       "Asia                                          876\n",
       "Ancient Civilizations                         747\n",
       "Historical Study & Educational Resources      307\n",
       "Middle East                                   280\n",
       "Africa                                        250\n",
       "Australia & Oceania                            96\n",
       "Russia                                         64\n",
       "Arctic & Antarctica                             4\n",
       "Name: count, dtype: int64"
      ]
     },
     "execution_count": 65,
     "metadata": {},
     "output_type": "execute_result"
    }
   ],
   "source": [
    "df.value_counts('category')"
   ]
  },
  {
   "cell_type": "code",
   "execution_count": 39,
   "metadata": {},
   "outputs": [],
   "source": [
    "def string_to_int_list(input_string):\n",
    "    # Strip the brackets\n",
    "    stripped_string = input_string.strip('[]')\n",
    "    \n",
    "    # Check if the stripped string is empty\n",
    "    if not stripped_string:\n",
    "        return []\n",
    "    \n",
    "    # Split the string into a list of numbers as strings\n",
    "    string_numbers = stripped_string.split(',')\n",
    "    \n",
    "    # Convert each string number to an integer\n",
    "    int_list = [int(number) for number in string_numbers]\n",
    "    \n",
    "    return int_list\n"
   ]
  },
  {
   "cell_type": "code",
   "execution_count": 45,
   "metadata": {},
   "outputs": [
    {
     "name": "stdout",
     "output_type": "stream",
     "text": [
      "defaultdict(<class 'int'>, {12: 565, 1: 11285, 2: 6143, 0: 1202, 3: 3885, 8: 1113, 9: 906, 11: 720, 4: 2758, 27: 144, 7: 1310, 6: 1583, 25: 170, 5: 2060, 19: 274, 10: 784, 26: 142, 33: 79, 23: 178, 16: 354, 15: 452, 13: 483, 18: 302, 28: 133, 24: 173, 32: 89, 17: 320, 21: 205, 14: 423, 31: 90, 30: 99, 37: 72, 43: 45, 22: 194, 36: 66, 20: 254, 38: 72, 29: 130, 35: 81, 39: 74, 34: 88, 42: 50, 44: 60, 46: 54, 52: 34, 40: 63, 41: 72, 45: 54, 56: 38, 64: 32, 55: 28, 58: 39, 67: 43, 71: 48, 50: 46, 59: 24, 48: 28, 47: 35, 54: 34, 60: 32, 51: 44, 49: 51, 68: 33, 53: 38, 61: 32, 57: 33, 65: 31, 69: 33, 73: 50, 63: 26, 82: 55, 84: 39, 90: 16, 86: 29, 62: 27, 87: 20, 88: 21, 89: 12, 75: 57, 74: 45, 76: 62, 66: 35, 81: 57, 77: 61, 78: 59, 93: 3, 83: 41, 79: 51, 91: 9, 70: 35, 72: 37, 85: 36, 80: 51, 95: 1, 94: 2, 92: 4, 97: 1})\n",
      "0 1202\n",
      "1 11285\n",
      "2 6143\n",
      "3 3885\n",
      "4 2758\n",
      "5 2060\n",
      "6 1583\n",
      "7 1310\n",
      "8 1113\n",
      "9 906\n",
      "10 784\n",
      "11 720\n",
      "12 565\n",
      "13 483\n",
      "14 423\n",
      "15 452\n",
      "16 354\n",
      "17 320\n",
      "18 302\n",
      "19 274\n",
      "20 254\n",
      "21 205\n",
      "22 194\n",
      "23 178\n",
      "24 173\n",
      "25 170\n",
      "26 142\n",
      "27 144\n",
      "28 133\n",
      "29 130\n",
      "30 99\n",
      "31 90\n",
      "32 89\n",
      "33 79\n",
      "34 88\n",
      "35 81\n",
      "36 66\n",
      "37 72\n",
      "38 72\n",
      "39 74\n",
      "40 63\n",
      "41 72\n",
      "42 50\n",
      "43 45\n",
      "44 60\n",
      "45 54\n",
      "46 54\n",
      "47 35\n",
      "48 28\n",
      "49 51\n",
      "50 46\n",
      "51 44\n",
      "52 34\n",
      "53 38\n",
      "54 34\n",
      "55 28\n",
      "56 38\n",
      "57 33\n",
      "58 39\n",
      "59 24\n",
      "60 32\n",
      "61 32\n",
      "62 27\n",
      "63 26\n",
      "64 32\n",
      "65 31\n",
      "66 35\n",
      "67 43\n",
      "68 33\n",
      "69 33\n",
      "70 35\n",
      "71 48\n",
      "72 37\n",
      "73 50\n",
      "74 45\n",
      "75 57\n",
      "76 62\n",
      "77 61\n",
      "78 59\n",
      "79 51\n",
      "80 51\n",
      "81 57\n",
      "82 55\n",
      "83 41\n",
      "84 39\n",
      "85 36\n",
      "86 29\n",
      "87 20\n",
      "88 21\n",
      "89 12\n",
      "90 16\n",
      "91 9\n",
      "92 4\n",
      "93 3\n",
      "94 2\n",
      "95 1\n",
      "97 1\n",
      "97 0 8.629732136410675 41551 14.913835157196113\n"
     ]
    }
   ],
   "source": [
    "from collections import defaultdict\n",
    "\n",
    "\n",
    "l = []\n",
    "d = defaultdict(int)\n",
    "for ngh in df['neighbour']:\n",
    "    ngh = string_to_int_list(ngh)\n",
    "    l.append(len(ngh))\n",
    "    d[len(ngh)] += 1\n",
    "\n",
    "print(d)\n",
    "# print in sorted order\n",
    "for k in sorted(d.keys()):\n",
    "    print(k, d[k])\n",
    "print(max(l), min(l), sum(l)/len(l), len(l), np.std(l))\n",
    "# plot historgram of l\n",
    "# import matplotlib.pyplot as plt\n",
    "# plt.hist(l, bins=100)\n"
   ]
  },
  {
   "cell_type": "code",
   "execution_count": 44,
   "metadata": {},
   "outputs": [
    {
     "data": {
      "text/plain": [
       "1202"
      ]
     },
     "execution_count": 44,
     "metadata": {},
     "output_type": "execute_result"
    }
   ],
   "source": [
    "d[0]"
   ]
  },
  {
   "cell_type": "code",
   "execution_count": 28,
   "metadata": {},
   "outputs": [
    {
     "data": {
      "text/plain": [
       "count     41551\n",
       "unique    37947\n",
       "top          []\n",
       "freq       1202\n",
       "Name: neighbour, dtype: object"
      ]
     },
     "execution_count": 28,
     "metadata": {},
     "output_type": "execute_result"
    }
   ],
   "source": [
    "df['neighbour'].describe()"
   ]
  },
  {
   "cell_type": "code",
   "execution_count": null,
   "metadata": {},
   "outputs": [],
   "source": [
    "# Data(raw_text=[2708], y=[2708], label_names=[7], edge_index=[2, 10858], train_masks=[10], val_masks=[10], test_masks=[10], x=[2708, 384], raw_texts=[2708], category_names=[2708]) <class 'torch_geometric.data.data.Data'>\n",
    "\n",
    "\n"
   ]
  },
  {
   "cell_type": "code",
   "execution_count": 18,
   "metadata": {},
   "outputs": [
    {
     "data": {
      "text/plain": [
       "'Description: Shipped from UK, please allow 10 to 21 business days for arrival. Very Good, A very good, near fine copy in black cloth boards, gilt title on spine with a very good, near fine dust jacket. Mayflower: a voyage to war. xvii, 461 p. : ill., ports. ; 24 cm.. . Includes bibliographical references (p. [415]-443).. .; Title: Mayflower. A story of Community, Courage and War'"
      ]
     },
     "execution_count": 18,
     "metadata": {},
     "output_type": "execute_result"
    }
   ],
   "source": [
    "df.iloc[69]['text']"
   ]
  },
  {
   "cell_type": "code",
   "execution_count": 48,
   "metadata": {},
   "outputs": [
    {
     "name": "stdout",
     "output_type": "stream",
     "text": [
      "['World', 'Americas', 'Asia', 'Military', 'Europe', 'Russia', 'Africa', 'Ancient Civilizations', 'Middle East', 'Historical Study & Educational Resources', 'Australia & Oceania', 'Arctic & Antarctica']\n"
     ]
    }
   ],
   "source": [
    "dic = {}\n",
    "for row in df.iterrows():\n",
    "    dic[(row[1]['category'], row[1]['label'])] = 1\n",
    "\n",
    "print([k[0] for k in dic.keys()])\n"
   ]
  },
  {
   "cell_type": "code",
   "execution_count": 60,
   "metadata": {},
   "outputs": [],
   "source": [
    "edges = set()\n",
    "for _,row in df.iterrows():\n",
    "    ngh_list = string_to_int_list(row['neighbour'])\n",
    "    for ngh in ngh_list:\n",
    "        edges.add((row['node_id'], ngh))"
   ]
  },
  {
   "cell_type": "code",
   "execution_count": 61,
   "metadata": {},
   "outputs": [
    {
     "name": "stdout",
     "output_type": "stream",
     "text": [
      "144606\n"
     ]
    }
   ],
   "source": [
    "c = 0\n",
    "for e in edges:\n",
    "    if (e[1], e[0]) not in edges:\n",
    "        c+= 1\n",
    "print(c)"
   ]
  },
  {
   "cell_type": "code",
   "execution_count": 63,
   "metadata": {},
   "outputs": [],
   "source": [
    "edge_index = [[],[]]\n",
    "for e in edges:\n",
    "    edge_index[0].append(e[0])\n",
    "    edge_index[1].append(e[1])\n",
    "import torch\n",
    "edge_index = torch.tensor(edge_index, dtype=torch.long)"
   ]
  },
  {
   "cell_type": "code",
   "execution_count": 64,
   "metadata": {},
   "outputs": [
    {
     "data": {
      "text/plain": [
       "torch.Size([2, 358574])"
      ]
     },
     "execution_count": 64,
     "metadata": {},
     "output_type": "execute_result"
    }
   ],
   "source": [
    "edge_index.shape"
   ]
  },
  {
   "cell_type": "code",
   "execution_count": 108,
   "metadata": {},
   "outputs": [],
   "source": [
    "import random\n",
    "def generate_masks():\n",
    "    mask = []\n",
    "    for i in range(len(df)):\n",
    "        mask.append(np.random.choice([0,1,2], p = [0.6, 0.2, 0.2]))\n",
    "    train_mask = torch.tensor([m == 0 for m in mask], dtype=torch.bool)\n",
    "    val_mask = torch.tensor([m == 1 for m in mask], dtype=torch.bool)\n",
    "    test_mask = torch.tensor([m == 2 for m in mask], dtype=torch.bool)\n",
    "    return train_mask, val_mask, test_mask"
   ]
  },
  {
   "cell_type": "code",
   "execution_count": 109,
   "metadata": {},
   "outputs": [
    {
     "name": "stderr",
     "output_type": "stream",
     "text": [
      "/tmp/ipykernel_2511561/2227789009.py:6: DeprecationWarning: In future, it will be an error for 'np.bool_' scalars to be interpreted as an index\n",
      "  train_mask = torch.tensor([m == 0 for m in mask], dtype=torch.bool)\n",
      "/tmp/ipykernel_2511561/2227789009.py:7: DeprecationWarning: In future, it will be an error for 'np.bool_' scalars to be interpreted as an index\n",
      "  val_mask = torch.tensor([m == 1 for m in mask], dtype=torch.bool)\n",
      "/tmp/ipykernel_2511561/2227789009.py:8: DeprecationWarning: In future, it will be an error for 'np.bool_' scalars to be interpreted as an index\n",
      "  test_mask = torch.tensor([m == 2 for m in mask], dtype=torch.bool)\n"
     ]
    }
   ],
   "source": [
    "train_masks = []\n",
    "val_masks = []\n",
    "test_masks = []\n",
    "for j in range(10):\n",
    "    train_mask, val_mask, test_mask = generate_masks()\n",
    "    train_masks.append(train_mask)\n",
    "    val_masks.append(val_mask)\n",
    "    test_masks.append(test_mask)"
   ]
  },
  {
   "cell_type": "code",
   "execution_count": 111,
   "metadata": {},
   "outputs": [
    {
     "name": "stdout",
     "output_type": "stream",
     "text": [
      "tensor(0.6036) tensor(0.1984) tensor(0.1979)\n"
     ]
    }
   ],
   "source": [
    "print(sum(train_masks[0])/len(train_masks[0]), sum(val_masks[0])/len(train_masks[0]), sum(test_masks[0])/len(train_masks[0]))"
   ]
  },
  {
   "cell_type": "code",
   "execution_count": 110,
   "metadata": {},
   "outputs": [],
   "source": [
    "# # count diff between train_mask[0], train_mask[1]\n",
    "# diff = 0\n",
    "# for i in range(len(train_masks[0])):\n",
    "#     if train_masks[0][i] != train_masks[1][i]:\n",
    "#         diff += 1\n",
    "# print(diff)"
   ]
  },
  {
   "cell_type": "code",
   "execution_count": 105,
   "metadata": {},
   "outputs": [
    {
     "name": "stderr",
     "output_type": "stream",
     "text": [
      "/tmp/ipykernel_2511561/1602223278.py:1: DeprecationWarning: In future, it will be an error for 'np.bool_' scalars to be interpreted as an index\n",
      "  train_masks = torch.tensor(train_masks, dtype=torch.bool)\n",
      "/tmp/ipykernel_2511561/1602223278.py:2: DeprecationWarning: In future, it will be an error for 'np.bool_' scalars to be interpreted as an index\n",
      "  val_masks = torch.tensor(val_masks, dtype=torch.bool)\n",
      "/tmp/ipykernel_2511561/1602223278.py:3: DeprecationWarning: In future, it will be an error for 'np.bool_' scalars to be interpreted as an index\n",
      "  test_masks = torch.tensor(test_masks, dtype=torch.bool)\n"
     ]
    }
   ],
   "source": [
    "# train_masks = torch.tensor(train_masks, dtype=torch.bool)\n",
    "# val_masks = torch.tensor(val_masks, dtype=torch.bool)\n",
    "# test_masks = torch.tensor(test_masks, dtype=torch.bool)"
   ]
  },
  {
   "cell_type": "code",
   "execution_count": 123,
   "metadata": {},
   "outputs": [],
   "source": [
    "data_obj = {}\n",
    "data_obj['raw_text'] = list(df['text'])\n",
    "data_obj['y'] = torch.tensor(df['label'])\n",
    "data_obj['label_names'] = ['World', 'Americas', 'Asia', 'Military', 'Europe', 'Russia', 'Africa', 'Ancient Civilizations', 'Middle East', 'Historical Study & Educational Resources', 'Australia & Oceania', 'Arctic & Antarctica']\n",
    "data_obj['edge_index'] = edge_index\n",
    "data_obj['train_masks'] = train_masks\n",
    "data_obj['val_masks'] = val_masks\n",
    "data_obj['test_masks'] = test_masks\n",
    "data_obj['x'] = torch.randn(len(df), 384)\n",
    "data_obj['raw_texts'] = list(df['text'])\n",
    "data_obj['category_names'] = list(df['category'])\n",
    "\n",
    "# dump as a torch geometric object\n",
    "import torch\n",
    "from torch_geometric.data import Data\n",
    "data = Data(**data_obj)\n",
    "torch.save(data, 'history_books_random.pt')\n",
    "\n",
    "\n",
    "\n"
   ]
  },
  {
   "cell_type": "code",
   "execution_count": null,
   "metadata": {},
   "outputs": [],
   "source": [
    "list(df['label'])"
   ]
  },
  {
   "cell_type": "code",
   "execution_count": 125,
   "metadata": {},
   "outputs": [],
   "source": [
    "data = torch.load(f\"history_books_random.pt\", map_location='cpu')"
   ]
  },
  {
   "cell_type": "code",
   "execution_count": 126,
   "metadata": {},
   "outputs": [
    {
     "name": "stdout",
     "output_type": "stream",
     "text": [
      "Data(x=[41551, 384], edge_index=[2, 358574], y=[41551], raw_text=[41551], label_names=[12], train_masks=[10], val_masks=[10], test_masks=[10], raw_texts=[41551], category_names=[41551]) <class 'torch_geometric.data.data.Data'>\n"
     ]
    }
   ],
   "source": [
    "print(data, type(data))"
   ]
  },
  {
   "cell_type": "code",
   "execution_count": 127,
   "metadata": {},
   "outputs": [
    {
     "name": "stdout",
     "output_type": "stream",
     "text": [
      "<class 'torch.Tensor'> <class 'torch.Tensor'> <class 'torch.Tensor'> <class 'list'> <class 'list'> <class 'list'> <class 'list'> <class 'list'> <class 'list'>\n"
     ]
    }
   ],
   "source": [
    "print(type(data.x), type(data.y), type(data.edge_index), type(data.train_masks), type(data.val_masks), type(data.test_masks), type(data.raw_text), type(data.label_names), type(data.category_names))\n",
    "# <class 'torch.Tensor'> <class 'torch.Tensor'> <class 'torch.Tensor'> <class 'list'> <class 'list'> <class 'list'> <class 'list'> <class 'list'> <class 'list'>"
   ]
  }
 ],
 "metadata": {
  "kernelspec": {
   "display_name": "pgm",
   "language": "python",
   "name": "python3"
  },
  "language_info": {
   "codemirror_mode": {
    "name": "ipython",
    "version": 3
   },
   "file_extension": ".py",
   "mimetype": "text/x-python",
   "name": "python",
   "nbconvert_exporter": "python",
   "pygments_lexer": "ipython3",
   "version": "3.10.13"
  }
 },
 "nbformat": 4,
 "nbformat_minor": 2
}
